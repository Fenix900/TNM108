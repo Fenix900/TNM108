{
 "cells": [
  {
   "cell_type": "code",
   "execution_count": 2,
   "metadata": {},
   "outputs": [],
   "source": [
    "import pandas as pd\n",
    "import scipy\n",
    "import seaborn as sns\n",
    "import matplotlib.pyplot as plt\n",
    "from sklearn.metrics import accuracy_score, classification_report, confusion_matrix, roc_auc_score\n",
    "import torch\n",
    "from transformers import AutoTokenizer, AutoModelForSequenceClassification"
   ]
  },
  {
   "cell_type": "code",
   "execution_count": 3,
   "metadata": {},
   "outputs": [
    {
     "data": {
      "text/html": [
       "<div>\n",
       "<style scoped>\n",
       "    .dataframe tbody tr th:only-of-type {\n",
       "        vertical-align: middle;\n",
       "    }\n",
       "\n",
       "    .dataframe tbody tr th {\n",
       "        vertical-align: top;\n",
       "    }\n",
       "\n",
       "    .dataframe thead th {\n",
       "        text-align: right;\n",
       "    }\n",
       "</style>\n",
       "<table border=\"1\" class=\"dataframe\">\n",
       "  <thead>\n",
       "    <tr style=\"text-align: right;\">\n",
       "      <th></th>\n",
       "      <th>Sentiment</th>\n",
       "      <th>Text</th>\n",
       "    </tr>\n",
       "  </thead>\n",
       "  <tbody>\n",
       "    <tr>\n",
       "      <th>0</th>\n",
       "      <td>neutral</td>\n",
       "      <td>According to Gran , the company has no plans t...</td>\n",
       "    </tr>\n",
       "    <tr>\n",
       "      <th>1</th>\n",
       "      <td>neutral</td>\n",
       "      <td>Technopolis plans to develop in stages an area...</td>\n",
       "    </tr>\n",
       "    <tr>\n",
       "      <th>2</th>\n",
       "      <td>negative</td>\n",
       "      <td>The international electronic industry company ...</td>\n",
       "    </tr>\n",
       "    <tr>\n",
       "      <th>3</th>\n",
       "      <td>positive</td>\n",
       "      <td>With the new production plant the company woul...</td>\n",
       "    </tr>\n",
       "    <tr>\n",
       "      <th>4</th>\n",
       "      <td>positive</td>\n",
       "      <td>According to the company 's updated strategy f...</td>\n",
       "    </tr>\n",
       "  </tbody>\n",
       "</table>\n",
       "</div>"
      ],
      "text/plain": [
       "  Sentiment                                               Text\n",
       "0   neutral  According to Gran , the company has no plans t...\n",
       "1   neutral  Technopolis plans to develop in stages an area...\n",
       "2  negative  The international electronic industry company ...\n",
       "3  positive  With the new production plant the company woul...\n",
       "4  positive  According to the company 's updated strategy f..."
      ]
     },
     "execution_count": 3,
     "metadata": {},
     "output_type": "execute_result"
    }
   ],
   "source": [
    "data = pd.read_csv(\"all-data.csv\", encoding='unicode_escape',names=['Sentiment', 'Text'])\n",
    "data.head()"
   ]
  },
  {
   "cell_type": "code",
   "execution_count": 4,
   "metadata": {},
   "outputs": [
    {
     "data": {
      "text/plain": [
       "(4846, 2)"
      ]
     },
     "execution_count": 4,
     "metadata": {},
     "output_type": "execute_result"
    }
   ],
   "source": [
    "data.shape"
   ]
  },
  {
   "cell_type": "code",
   "execution_count": 5,
   "metadata": {},
   "outputs": [],
   "source": [
    "X = data['Text'].to_list()\n",
    "y = data['Sentiment'].to_list()"
   ]
  },
  {
   "cell_type": "code",
   "execution_count": 6,
   "metadata": {},
   "outputs": [
    {
     "ename": "TypeError",
     "evalue": "argument of type 'NoneType' is not iterable",
     "output_type": "error",
     "traceback": [
      "\u001b[1;31m---------------------------------------------------------------------------\u001b[0m",
      "\u001b[1;31mTypeError\u001b[0m                                 Traceback (most recent call last)",
      "\u001b[1;32mc:\\Users\\Lycko\\OneDrive - Linköpings universitet\\Maskininlärning för sociala medier\\projektet\\TNM108\\online_version.ipynb Cell 5\u001b[0m line \u001b[0;36m2\n\u001b[0;32m      <a href='vscode-notebook-cell:/c%3A/Users/Lycko/OneDrive%20-%20Link%C3%B6pings%20universitet/Maskininl%C3%A4rning%20f%C3%B6r%20sociala%20medier/projektet/TNM108/online_version.ipynb#W4sZmlsZQ%3D%3D?line=0'>1</a>\u001b[0m \u001b[39mimport\u001b[39;00m \u001b[39mos\u001b[39;00m\n\u001b[1;32m----> <a href='vscode-notebook-cell:/c%3A/Users/Lycko/OneDrive%20-%20Link%C3%B6pings%20universitet/Maskininl%C3%A4rning%20f%C3%B6r%20sociala%20medier/projektet/TNM108/online_version.ipynb#W4sZmlsZQ%3D%3D?line=1'>2</a>\u001b[0m tokenizer \u001b[39m=\u001b[39m AutoTokenizer\u001b[39m.\u001b[39mfrom_pretrained(os\u001b[39m.\u001b[39mchdir(\u001b[39m\"\u001b[39m\u001b[39m../finbert\u001b[39m\u001b[39m\"\u001b[39m))\n\u001b[0;32m      <a href='vscode-notebook-cell:/c%3A/Users/Lycko/OneDrive%20-%20Link%C3%B6pings%20universitet/Maskininl%C3%A4rning%20f%C3%B6r%20sociala%20medier/projektet/TNM108/online_version.ipynb#W4sZmlsZQ%3D%3D?line=2'>3</a>\u001b[0m model \u001b[39m=\u001b[39m AutoModelForSequenceClassification\u001b[39m.\u001b[39mfrom_pretrained(os\u001b[39m.\u001b[39mchdir(\u001b[39m\"\u001b[39m\u001b[39m../finbert\u001b[39m\u001b[39m\"\u001b[39m))\n",
      "File \u001b[1;32mc:\\Users\\Lycko\\anaconda3\\Lib\\site-packages\\transformers\\tokenization_auto.py:104\u001b[0m, in \u001b[0;36mAutoTokenizer.from_pretrained\u001b[1;34m(cls, pretrained_model_name_or_path, *inputs, **kwargs)\u001b[0m\n\u001b[0;32m     60\u001b[0m \u001b[39m@classmethod\u001b[39m\n\u001b[0;32m     61\u001b[0m \u001b[39mdef\u001b[39;00m \u001b[39mfrom_pretrained\u001b[39m(\u001b[39mcls\u001b[39m, pretrained_model_name_or_path, \u001b[39m*\u001b[39minputs, \u001b[39m*\u001b[39m\u001b[39m*\u001b[39mkwargs):\n\u001b[0;32m     62\u001b[0m \u001b[39m    \u001b[39m\u001b[39mr\u001b[39m\u001b[39m\"\"\" Instantiate a one of the tokenizer classes of the library\u001b[39;00m\n\u001b[0;32m     63\u001b[0m \u001b[39m    from a pre-trained model vocabulary.\u001b[39;00m\n\u001b[0;32m     64\u001b[0m \n\u001b[1;32m   (...)\u001b[0m\n\u001b[0;32m    102\u001b[0m \n\u001b[0;32m    103\u001b[0m \u001b[39m    \"\"\"\u001b[39;00m\n\u001b[1;32m--> 104\u001b[0m     \u001b[39mif\u001b[39;00m \u001b[39m'\u001b[39m\u001b[39mdistilbert\u001b[39m\u001b[39m'\u001b[39m \u001b[39min\u001b[39;00m pretrained_model_name_or_path:\n\u001b[0;32m    105\u001b[0m         \u001b[39mreturn\u001b[39;00m DistilBertTokenizer\u001b[39m.\u001b[39mfrom_pretrained(pretrained_model_name_or_path, \u001b[39m*\u001b[39minputs, \u001b[39m*\u001b[39m\u001b[39m*\u001b[39mkwargs)\n\u001b[0;32m    106\u001b[0m     \u001b[39melif\u001b[39;00m \u001b[39m'\u001b[39m\u001b[39mroberta\u001b[39m\u001b[39m'\u001b[39m \u001b[39min\u001b[39;00m pretrained_model_name_or_path:\n",
      "\u001b[1;31mTypeError\u001b[0m: argument of type 'NoneType' is not iterable"
     ]
    }
   ],
   "source": [
    "import os\n",
    "tokenizer = AutoTokenizer.from_pretrained(os.chdir(\"../finbert\"))\n",
    "model = AutoModelForSequenceClassification.from_pretrained(os.chdir(\"../finbert\"))"
   ]
  },
  {
   "cell_type": "code",
   "execution_count": 7,
   "metadata": {},
   "outputs": [
    {
     "ename": "TypeError",
     "evalue": "'BertTokenizer' object is not callable",
     "output_type": "error",
     "traceback": [
      "\u001b[1;31m---------------------------------------------------------------------------\u001b[0m",
      "\u001b[1;31mTypeError\u001b[0m                                 Traceback (most recent call last)",
      "\u001b[1;32mc:\\Users\\Lycko\\OneDrive - Linköpings universitet\\Maskininlärning för sociala medier\\projektet\\TNM108\\online_version.ipynb Cell 6\u001b[0m line \u001b[0;36m6\n\u001b[0;32m      <a href='vscode-notebook-cell:/c%3A/Users/Lycko/OneDrive%20-%20Link%C3%B6pings%20universitet/Maskininl%C3%A4rning%20f%C3%B6r%20sociala%20medier/projektet/TNM108/online_version.ipynb#W5sZmlsZQ%3D%3D?line=3'>4</a>\u001b[0m \u001b[39mfor\u001b[39;00m x \u001b[39min\u001b[39;00m X:\n\u001b[0;32m      <a href='vscode-notebook-cell:/c%3A/Users/Lycko/OneDrive%20-%20Link%C3%B6pings%20universitet/Maskininl%C3%A4rning%20f%C3%B6r%20sociala%20medier/projektet/TNM108/online_version.ipynb#W5sZmlsZQ%3D%3D?line=4'>5</a>\u001b[0m     \u001b[39mwith\u001b[39;00m torch\u001b[39m.\u001b[39mno_grad():\n\u001b[1;32m----> <a href='vscode-notebook-cell:/c%3A/Users/Lycko/OneDrive%20-%20Link%C3%B6pings%20universitet/Maskininl%C3%A4rning%20f%C3%B6r%20sociala%20medier/projektet/TNM108/online_version.ipynb#W5sZmlsZQ%3D%3D?line=5'>6</a>\u001b[0m         input_sequence \u001b[39m=\u001b[39m tokenizer(x, return_tensors\u001b[39m=\u001b[39m\u001b[39m\"\u001b[39m\u001b[39mpt\u001b[39m\u001b[39m\"\u001b[39m, \u001b[39m*\u001b[39m\u001b[39m*\u001b[39mtokenizer_kwargs)\n\u001b[0;32m      <a href='vscode-notebook-cell:/c%3A/Users/Lycko/OneDrive%20-%20Link%C3%B6pings%20universitet/Maskininl%C3%A4rning%20f%C3%B6r%20sociala%20medier/projektet/TNM108/online_version.ipynb#W5sZmlsZQ%3D%3D?line=6'>7</a>\u001b[0m         logits \u001b[39m=\u001b[39m model(\u001b[39m*\u001b[39m\u001b[39m*\u001b[39minput_sequence)\u001b[39m.\u001b[39mlogits\n\u001b[0;32m      <a href='vscode-notebook-cell:/c%3A/Users/Lycko/OneDrive%20-%20Link%C3%B6pings%20universitet/Maskininl%C3%A4rning%20f%C3%B6r%20sociala%20medier/projektet/TNM108/online_version.ipynb#W5sZmlsZQ%3D%3D?line=7'>8</a>\u001b[0m         scores \u001b[39m=\u001b[39m {\n\u001b[0;32m      <a href='vscode-notebook-cell:/c%3A/Users/Lycko/OneDrive%20-%20Link%C3%B6pings%20universitet/Maskininl%C3%A4rning%20f%C3%B6r%20sociala%20medier/projektet/TNM108/online_version.ipynb#W5sZmlsZQ%3D%3D?line=8'>9</a>\u001b[0m         k: v\n\u001b[0;32m     <a href='vscode-notebook-cell:/c%3A/Users/Lycko/OneDrive%20-%20Link%C3%B6pings%20universitet/Maskininl%C3%A4rning%20f%C3%B6r%20sociala%20medier/projektet/TNM108/online_version.ipynb#W5sZmlsZQ%3D%3D?line=9'>10</a>\u001b[0m         \u001b[39mfor\u001b[39;00m k, v \u001b[39min\u001b[39;00m \u001b[39mzip\u001b[39m(\n\u001b[1;32m   (...)\u001b[0m\n\u001b[0;32m     <a href='vscode-notebook-cell:/c%3A/Users/Lycko/OneDrive%20-%20Link%C3%B6pings%20universitet/Maskininl%C3%A4rning%20f%C3%B6r%20sociala%20medier/projektet/TNM108/online_version.ipynb#W5sZmlsZQ%3D%3D?line=12'>13</a>\u001b[0m         )\n\u001b[0;32m     <a href='vscode-notebook-cell:/c%3A/Users/Lycko/OneDrive%20-%20Link%C3%B6pings%20universitet/Maskininl%C3%A4rning%20f%C3%B6r%20sociala%20medier/projektet/TNM108/online_version.ipynb#W5sZmlsZQ%3D%3D?line=13'>14</a>\u001b[0m     }\n",
      "\u001b[1;31mTypeError\u001b[0m: 'BertTokenizer' object is not callable"
     ]
    }
   ],
   "source": [
    "preds = []\n",
    "preds_proba = []\n",
    "tokenizer_kwargs = {\"padding\": True, \"truncation\": True, \"max_length\": 512}\n",
    "for x in X:\n",
    "    with torch.no_grad():\n",
    "        input_sequence = tokenizer(x, return_tensors=\"pt\", **tokenizer_kwargs)\n",
    "        logits = model(**input_sequence).logits\n",
    "        scores = {\n",
    "        k: v\n",
    "        for k, v in zip(\n",
    "            model.config.id2label.values(),\n",
    "            scipy.special.softmax(logits.numpy().squeeze()),\n",
    "        )\n",
    "    }\n",
    "    sentimentFinbert = max(scores, key=scores.get)\n",
    "    probabilityFinbert = max(scores.values())\n",
    "    preds.append(sentimentFinbert)\n",
    "    preds_proba.append(probabilityFinbert)"
   ]
  }
 ],
 "metadata": {
  "kernelspec": {
   "display_name": "Python 3",
   "language": "python",
   "name": "python3"
  },
  "language_info": {
   "codemirror_mode": {
    "name": "ipython",
    "version": 3
   },
   "file_extension": ".py",
   "mimetype": "text/x-python",
   "name": "python",
   "nbconvert_exporter": "python",
   "pygments_lexer": "ipython3",
   "version": "3.11.4"
  },
  "orig_nbformat": 4
 },
 "nbformat": 4,
 "nbformat_minor": 2
}

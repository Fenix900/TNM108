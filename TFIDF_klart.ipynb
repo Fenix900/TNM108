{
 "cells": [
  {
   "cell_type": "markdown",
   "id": "1cdc7aae",
   "metadata": {},
   "source": [
    "# TFIDF + multinomial bayes"
   ]
  },
  {
   "cell_type": "code",
   "execution_count": 1,
   "id": "5e2a3848",
   "metadata": {},
   "outputs": [],
   "source": [
    "import numpy as np\n",
    "import pandas as pd\n",
    "import sklearn\n",
    "from sklearn.datasets import load_files\n",
    "from sklearn.feature_extraction.text import CountVectorizer\n",
    "from sklearn.feature_extraction.text import TfidfTransformer\n",
    "from sklearn.naive_bayes import MultinomialNB\n",
    "from sklearn.pipeline import Pipeline\n",
    "from sklearn.model_selection import train_test_split\n",
    "\n",
    "# import CountVectorizer, nltk\n",
    "from sklearn.feature_extraction.text import CountVectorizer\n",
    "import nltk"
   ]
  },
  {
   "cell_type": "code",
   "execution_count": 2,
   "id": "f8b9c968",
   "metadata": {},
   "outputs": [
    {
     "name": "stdout",
     "output_type": "stream",
     "text": [
      "0       According to Gran , the company has no plans t...\n",
      "1       Technopolis plans to develop in stages an area...\n",
      "2       The international electronic industry company ...\n",
      "3       With the new production plant the company woul...\n",
      "4       According to the company 's updated strategy f...\n",
      "                              ...                        \n",
      "3871    The newspaper 's best sales asset is high qual...\n",
      "3872    The non-recurring costs caused to Talentum 's ...\n",
      "3873    The ongoing project where Tekla Structures is ...\n",
      "3874    The operations to be sold include manufacturin...\n",
      "3875    The options might include a partial or total d...\n",
      "Name: Text, Length: 3876, dtype: object\n",
      "-------------\n",
      "0        neutral\n",
      "1        neutral\n",
      "2       negative\n",
      "3       positive\n",
      "4       positive\n",
      "          ...   \n",
      "3871     neutral\n",
      "3872     neutral\n",
      "3873     neutral\n",
      "3874     neutral\n",
      "3875     neutral\n",
      "Name: Sentiment, Length: 3876, dtype: object\n"
     ]
    }
   ],
   "source": [
    "# loading all files. \n",
    "\n",
    "data = pd.read_csv(\"all-data.csv\", encoding='unicode_escape',names=['Sentiment', 'Text'])\n",
    "data['Sentiment']\n",
    "\n",
    "# Split data into training and test sets\n",
    "sentence_train, sentence_test, y_train, y_test =  train_test_split(data[\"Text\"], data[\"Sentiment\"], test_size = 0.20, shuffle = False)\n",
    "print(sentence_train)\n",
    "print(\"-------------\")\n",
    "print(y_train)\n"
   ]
  },
  {
   "cell_type": "code",
   "execution_count": 3,
   "id": "fe8ef1be",
   "metadata": {},
   "outputs": [],
   "source": [
    "# initialize CountVectorizer\n",
    "#movieVzer= CountVectorizer(min_df=2, tokenizer=nltk.word_tokenize, max_features=3000) # use top 3000 words only. 78.25% acc.\n",
    "countVectorizer = CountVectorizer(min_df=2)         # use all 25K words. Higher accuracy\n",
    "\n",
    "# fit and tranform using training text \n",
    "sentence_train_counts = countVectorizer.fit_transform(sentence_train)\n",
    "\n",
    "# Convert raw frequency counts into TF-IDF values\n",
    "tfidfTransformer = TfidfTransformer()\n",
    "sentence_train_tfidf = tfidfTransformer.fit_transform(sentence_train_counts)\n",
    "\n",
    "# Using the fitted vectorizer and transformer, tranform the test data\n",
    "sentence_test_counts = countVectorizer.transform(sentence_test)\n",
    "sentence_test_tfidf = tfidfTransformer.transform(sentence_test_counts)"
   ]
  },
  {
   "cell_type": "code",
   "execution_count": 4,
   "id": "23b4b2ed",
   "metadata": {},
   "outputs": [
    {
     "data": {
      "text/plain": [
       "MultinomialNB()"
      ]
     },
     "execution_count": 4,
     "metadata": {},
     "output_type": "execute_result"
    }
   ],
   "source": [
    "# Now ready to build a classifier. \n",
    "# We will use Multinominal Naive Bayes as our model\n",
    "from sklearn.naive_bayes import MultinomialNB\n",
    "\n",
    "# Train a Multimoda Naive Bayes classifier. Again, we call it \"fitting\"\n",
    "clf = MultinomialNB()\n",
    "clf.fit(sentence_train_tfidf, y_train)"
   ]
  },
  {
   "cell_type": "code",
   "execution_count": 5,
   "metadata": {},
   "outputs": [
    {
     "name": "stdout",
     "output_type": "stream",
     "text": [
      "0.41855670103092785\n"
     ]
    }
   ],
   "source": [
    "predicted = clf.predict(sentence_test_tfidf)\n",
    "print(np.mean(predicted == y_test))"
   ]
  },
  {
   "cell_type": "code",
   "execution_count": 7,
   "metadata": {},
   "outputs": [
    {
     "name": "stdout",
     "output_type": "stream",
     "text": [
      "0.4247422680412371\n"
     ]
    }
   ],
   "source": [
    "from sklearn.ensemble import RandomForestClassifier\n",
    "# Train a Random Forest classifier\n",
    "clf = RandomForestClassifier()\n",
    "clf.fit(sentence_train_tfidf, y_train)\n",
    "\n",
    "# Predict on the test set\n",
    "predicted = clf.predict(sentence_test_tfidf)\n",
    "\n",
    "# Print accuracy\n",
    "print(np.mean(predicted == y_test))"
   ]
  }
 ],
 "metadata": {
  "kernelspec": {
   "display_name": "Python 3",
   "language": "python",
   "name": "python3"
  },
  "language_info": {
   "codemirror_mode": {
    "name": "ipython",
    "version": 3
   },
   "file_extension": ".py",
   "mimetype": "text/x-python",
   "name": "python",
   "nbconvert_exporter": "python",
   "pygments_lexer": "ipython3",
   "version": "3.8.8"
  }
 },
 "nbformat": 4,
 "nbformat_minor": 5
}
